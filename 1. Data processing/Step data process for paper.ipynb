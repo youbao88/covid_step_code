{
 "cells": [
  {
   "cell_type": "code",
   "execution_count": null,
   "id": "394576a0",
   "metadata": {},
   "outputs": [],
   "source": [
    "import pandas as pd\n",
    "import numpy as np\n",
    "import os\n",
    "from numba import jit\n",
    "import json\n",
    "from tqdm.notebook import tqdm\n",
    "from datetime import datetime\n",
    "from numba import jit\n",
    "import feather"
   ]
  },
  {
   "cell_type": "code",
   "execution_count": null,
   "id": "c7ea9b0f",
   "metadata": {},
   "outputs": [],
   "source": [
    "tqdm.pandas()"
   ]
  },
  {
   "cell_type": "markdown",
   "id": "27501e93",
   "metadata": {},
   "source": [
    "# Load dataset"
   ]
  },
  {
   "cell_type": "code",
   "execution_count": null,
   "id": "7eaef927",
   "metadata": {},
   "outputs": [],
   "source": [
    "df = None\n",
    "for i in tqdm(range(1,5,1)):\n",
    "    #Load CSV\n",
    "    _df = pd.read_csv(os.path.join(\"F:/\", \"minutesaggregatedsteps_22_01_14\", \"minutesaggregatedsteps_%s.csv\"%str(i)), usecols=['PartitionKey', 'DeviceType', 'DeviceUuid', 'EndTime', 'Model', 'OtherSource', 'ProgramVersion', 'StartTime', 'Steps'], low_memory=False)\n",
    "    if df is None:\n",
    "        df = _df\n",
    "    else:\n",
    "        df = pd.concat([df,_df])"
   ]
  },
  {
   "cell_type": "markdown",
   "id": "dcf32801",
   "metadata": {},
   "source": [
    "# Load keyfiles"
   ]
  },
  {
   "cell_type": "code",
   "execution_count": null,
   "id": "e9cd288f",
   "metadata": {},
   "outputs": [],
   "source": [
    "df_key = pd.read_csv(os.path.join(\"F:/\", \"nyckelfil.csv\"), sep = ';')\n",
    "df_key['DeviceUuId'] = df_key['DeviceUuId'].str.lower()\n",
    "df_key['ParticipantUuId'] = df_key['ParticipantUuId'].str.lower()\n",
    "df_key.head()"
   ]
  },
  {
   "cell_type": "markdown",
   "id": "35bffd97",
   "metadata": {},
   "source": [
    "# Merge ParticipantUuID"
   ]
  },
  {
   "cell_type": "code",
   "execution_count": null,
   "id": "51e7990e",
   "metadata": {},
   "outputs": [],
   "source": [
    "df_merged = df.merge(df_key[['DeviceUuId', 'ParticipantUuId']], left_on = 'DeviceUuid', right_on = 'DeviceUuId', how = 'left')\n",
    "df_merged = df_merged[~df_merged['ParticipantUuId'].isna()]\n",
    "df_merged = df_merged.drop('DeviceUuId', axis = 1)\n",
    "df_merged"
   ]
  },
  {
   "cell_type": "markdown",
   "id": "f0a1b345",
   "metadata": {},
   "source": [
    "# Delete entities whose start time and end time not recorded in the same day "
   ]
  },
  {
   "cell_type": "code",
   "execution_count": null,
   "id": "39517b36",
   "metadata": {},
   "outputs": [],
   "source": [
    "def calcualte_time_difference(row):\n",
    "    start_date = row['StartTime'][:10]\n",
    "    end_date = row['EndTime'][:10]\n",
    "    return start_date == end_date\n",
    "is_same_date = df_merged.progress_apply(calcualte_time_difference, axis = 1)"
   ]
  },
  {
   "cell_type": "code",
   "execution_count": null,
   "id": "4caca2c7",
   "metadata": {},
   "outputs": [],
   "source": [
    "df_merged_same_date = df_merged[is_same_date]\n",
    "df_merged_same_date"
   ]
  },
  {
   "cell_type": "markdown",
   "id": "dd965164",
   "metadata": {},
   "source": [
    "# Drop duplicates"
   ]
  },
  {
   "cell_type": "code",
   "execution_count": null,
   "id": "62cabab5",
   "metadata": {},
   "outputs": [],
   "source": [
    "df_merged_same_date_no_dup = df_merged_same_date.drop_duplicates(subset = ['ParticipantUuId', 'StartTime', 'EndTime', 'Steps'])"
   ]
  },
  {
   "cell_type": "code",
   "execution_count": null,
   "id": "390cdc34",
   "metadata": {},
   "outputs": [],
   "source": [
    "df_merged_same_date_no_dup.head()"
   ]
  },
  {
   "cell_type": "markdown",
   "id": "30711449",
   "metadata": {},
   "source": [
    "# Delete outlier"
   ]
  },
  {
   "cell_type": "code",
   "execution_count": null,
   "id": "ee80929e",
   "metadata": {},
   "outputs": [],
   "source": [
    "def check_frequency(row):\n",
    "    startTime_datetime64 = np.datetime64(row['StartTime'])\n",
    "    endTime_datetime64 = np.datetime64(row['EndTime'])\n",
    "    time_difference = (endTime_datetime64 - startTime_datetime64)/np.timedelta64(1, 's')\n",
    "    if time_difference == 0.0:\n",
    "        return False\n",
    "    elif row['Steps']/time_difference >= 5.0:\n",
    "        return False\n",
    "    else:\n",
    "        return True\n",
    "check_frequency_result = df_merged_same_date_no_dup.progress_apply(check_frequency, axis = 1)"
   ]
  },
  {
   "cell_type": "code",
   "execution_count": null,
   "id": "aa456de0",
   "metadata": {},
   "outputs": [],
   "source": [
    "df_merged_same_date_no_dup = df_merged_same_date_no_dup[check_frequency_result]"
   ]
  },
  {
   "cell_type": "markdown",
   "id": "7fe2eb46",
   "metadata": {},
   "source": [
    "# Groupby date and device"
   ]
  },
  {
   "cell_type": "code",
   "execution_count": null,
   "id": "fd020910",
   "metadata": {},
   "outputs": [],
   "source": [
    "df_merged_same_date_no_dup_groupped = df_merged_same_date_no_dup.groupby(['ParticipantUuId', 'DeviceType', 'PartitionKey'])['Steps'].sum().reset_index()"
   ]
  },
  {
   "cell_type": "markdown",
   "id": "597e4bbc",
   "metadata": {},
   "source": [
    "# Include only one device"
   ]
  },
  {
   "cell_type": "code",
   "execution_count": null,
   "id": "665988c1",
   "metadata": {},
   "outputs": [],
   "source": [
    "df_merged_same_date_no_dup_groupped_one_device = df_merged_same_date_no_dup_groupped.sort_values(by = ['ParticipantUuId', 'PartitionKey','Steps']).drop_duplicates(subset = ['ParticipantUuId', 'PartitionKey'], keep = 'last')\n",
    "df_merged_same_date_no_dup_groupped_one_device"
   ]
  },
  {
   "cell_type": "code",
   "execution_count": null,
   "id": "5b567bfe",
   "metadata": {},
   "outputs": [],
   "source": [
    "df_daily_aggregated = df_merged_same_date_no_dup_groupped_one_device.copy()"
   ]
  },
  {
   "cell_type": "code",
   "execution_count": null,
   "id": "f97f26e8",
   "metadata": {},
   "outputs": [],
   "source": [
    "result = {}\n",
    "for participant_id in tqdm(df_daily_aggregated['ParticipantUuId'].unique()):\n",
    "    result[participant_id] = {}\n",
    "    _df = df_daily_aggregated[df_daily_aggregated['ParticipantUuId'] == participant_id]\n",
    "    len_2019 = len(_df[(_df['PartitionKey']<=20191231)&(_df['PartitionKey']>=20190101)])\n",
    "    len_2020 = len(_df[(_df['PartitionKey']<=20201231)&(_df['PartitionKey']>=20200101)])\n",
    "    len_2021 = len(_df[(_df['PartitionKey']<=20211231)&(_df['PartitionKey']>=20210101)])\n",
    "    result[participant_id]['2019'] = len_2019\n",
    "    result[participant_id]['2020'] = len_2020\n",
    "    result[participant_id]['2021'] = len_2021\n",
    "result"
   ]
  },
  {
   "cell_type": "code",
   "execution_count": null,
   "id": "c377834d",
   "metadata": {},
   "outputs": [],
   "source": [
    "result_df = pd.DataFrame(result).transpose().reset_index().rename(columns = {'index': 'ParticipantUuid'})\n",
    "list_of_participants = result_df[(result_df['2019'] >= 365*0.8) & (result_df['2020'] >= 365*0.8) & (result_df['2021'] >= 365*0.5)]['ParticipantUuid']\n",
    "df_daily_aggregated[df_daily_aggregated['ParticipantUuid'].isin(list_of_participants)]"
   ]
  }
 ],
 "metadata": {
  "kernelspec": {
   "display_name": "Python 3 (ipykernel)",
   "language": "python",
   "name": "python3"
  },
  "language_info": {
   "codemirror_mode": {
    "name": "ipython",
    "version": 3
   },
   "file_extension": ".py",
   "mimetype": "text/x-python",
   "name": "python",
   "nbconvert_exporter": "python",
   "pygments_lexer": "ipython3",
   "version": "3.11.5"
  },
  "toc": {
   "base_numbering": 1,
   "nav_menu": {},
   "number_sections": true,
   "sideBar": true,
   "skip_h1_title": false,
   "title_cell": "Table of Contents",
   "title_sidebar": "Contents",
   "toc_cell": false,
   "toc_position": {},
   "toc_section_display": true,
   "toc_window_display": false
  }
 },
 "nbformat": 4,
 "nbformat_minor": 5
}
