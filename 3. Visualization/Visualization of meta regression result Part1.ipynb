{
 "cells": [
  {
   "cell_type": "code",
   "execution_count": null,
   "id": "0f39cfb7",
   "metadata": {
    "ExecuteTime": {
     "end_time": "2023-03-29T09:21:35.229832Z",
     "start_time": "2023-03-29T09:21:34.404Z"
    },
    "vscode": {
     "languageId": "r"
    }
   },
   "outputs": [],
   "source": [
    "library(data.table)\n",
    "library(metafor)\n",
    "library(glue)\n",
    "library(metafor)"
   ]
  },
  {
   "cell_type": "markdown",
   "id": "103be790",
   "metadata": {},
   "source": [
    "# Gam model (without auto-correlation and with log link)"
   ]
  },
  {
   "cell_type": "code",
   "execution_count": null,
   "id": "3ccca626",
   "metadata": {
    "vscode": {
     "languageId": "r"
    }
   },
   "outputs": [],
   "source": [
    "models <- readRDS(file.path(getwd(), '..', 'List of meta_reg models.RData'))"
   ]
  },
  {
   "cell_type": "code",
   "execution_count": null,
   "id": "3fa62cad",
   "metadata": {
    "scrolled": false,
    "vscode": {
     "languageId": "r"
    }
   },
   "outputs": [],
   "source": [
    "df<- data.frame(models[[1]]$b)\n",
    "df"
   ]
  },
  {
   "cell_type": "code",
   "execution_count": null,
   "id": "5116c004",
   "metadata": {
    "vscode": {
     "languageId": "r"
    }
   },
   "outputs": [],
   "source": [
    "for (i in 2:length(models)){\n",
    "    df <- cbind(df, models[[i]]$b)\n",
    "}\n",
    "df"
   ]
  },
  {
   "cell_type": "code",
   "execution_count": null,
   "id": "2cec72f0",
   "metadata": {
    "vscode": {
     "languageId": "r"
    }
   },
   "outputs": [],
   "source": [
    "predict(models[[1],0,0,0,0,0,0))], newmods=c(0,0,0,0"
   ]
  },
  {
   "cell_type": "code",
   "execution_count": null,
   "id": "50d3346f",
   "metadata": {
    "vscode": {
     "languageId": "r"
    }
   },
   "outputs": [],
   "source": [
    "a = c(1,2,3)\n",
    "a[1] = 0\n",
    "a"
   ]
  },
  {
   "cell_type": "code",
   "execution_count": null,
   "id": "54c37ce6",
   "metadata": {
    "vscode": {
     "languageId": "r"
    }
   },
   "outputs": [],
   "source": [
    "for (j in 1:4){\n",
    "    df <- data.frame(predict(models[[j]], newmods=c(0,0,0,0,0,0,0,0,0,0), transf = exp))\n",
    "    for (i in 1:10){\n",
    "        newmods = c(0,0,0,0,0,0,0,0,0,0)\n",
    "        newmods[i] = 1\n",
    "        print(newmods)\n",
    "        df <- rbind(df, data.frame(predict(models[[j]], newmods=newmods, transf = exp)))\n",
    "    }\n",
    "    file_name <- \"meta_regression_result_wave{j}.csv\"\n",
    "    file_name <- glue(file_name)\n",
    "    write.csv(df, file_name, row.names=FALSE)\n",
    "}"
   ]
  },
  {
   "cell_type": "code",
   "execution_count": null,
   "id": "0e074e0c",
   "metadata": {
    "vscode": {
     "languageId": "r"
    }
   },
   "outputs": [],
   "source": [
    "models[[1]]"
   ]
  },
  {
   "cell_type": "code",
   "execution_count": null,
   "id": "682d9924",
   "metadata": {
    "scrolled": true,
    "vscode": {
     "languageId": "r"
    }
   },
   "outputs": [],
   "source": [
    "for (j in 1:4){\n",
    "    df <- data.frame(predict(models[[j]], newmods=c(0,0,0,0,0,0,0,0,0,0), transf = exp, intercept = FALSE))\n",
    "    for (i in 1:10){\n",
    "        newmods = c(0,0,0,0,0,0,0,0,0,0)\n",
    "        newmods[i] = 1\n",
    "        df <- rbind(df, data.frame(predict(models[[j]], newmods=newmods, transf = exp, , intercept = FALSE)))\n",
    "    }\n",
    "    file_name <- \"meta_regression_result_wave{j}_mean_difference.csv\"\n",
    "    file_name <- glue(file_name)\n",
    "    print(file_name)\n",
    "    write.csv(df, file_name, row.names=FALSE)\n",
    "}"
   ]
  },
  {
   "cell_type": "code",
   "execution_count": null,
   "id": "5409d0d2",
   "metadata": {
    "vscode": {
     "languageId": "r"
    }
   },
   "outputs": [],
   "source": [
    "df"
   ]
  },
  {
   "cell_type": "markdown",
   "id": "5993b3e2",
   "metadata": {},
   "source": [
    "# Gamm model (with auto correlation and with identity link)"
   ]
  },
  {
   "cell_type": "code",
   "execution_count": null,
   "id": "706c7b72",
   "metadata": {
    "ExecuteTime": {
     "end_time": "2023-03-29T09:21:59.563492Z",
     "start_time": "2023-03-29T09:21:59.249Z"
    },
    "vscode": {
     "languageId": "r"
    }
   },
   "outputs": [],
   "source": [
    "models <- readRDS(file.path(getwd(), '..', 'data','List of meta reg models per wave.RData'))"
   ]
  },
  {
   "cell_type": "code",
   "execution_count": null,
   "id": "ea6fbdfb",
   "metadata": {
    "ExecuteTime": {
     "end_time": "2023-03-29T09:22:02.023838Z",
     "start_time": "2023-03-29T09:22:02.145Z"
    },
    "vscode": {
     "languageId": "r"
    }
   },
   "outputs": [],
   "source": [
    "models[[1]][[7]]$pval"
   ]
  },
  {
   "cell_type": "code",
   "execution_count": null,
   "id": "35755cc5",
   "metadata": {
    "ExecuteTime": {
     "end_time": "2023-03-20T14:29:56.129113Z",
     "start_time": "2023-03-20T14:29:56.082Z"
    },
    "vscode": {
     "languageId": "r"
    }
   },
   "outputs": [],
   "source": [
    "df <- cbind(models[[1]][[7]]$b, models[[1]][[7]]$ci.lb, models[[1]][[7]]$ci.ub, models[[1]][[7]]$pval)\n",
    "for (j in 2:4){\n",
    "    df <- rbind(df, cbind(models[[j]][[7]]$b, models[[j]][[7]]$ci.lb, models[[j]][[7]]$ci.ub, models[[j]][[7]]$pval)) \n",
    "}\n",
    "df <-  data.frame(df)\n",
    "colnames(df) = c('estimate', 'lower', 'upper')\n",
    "#write.csv(df,'gamm_identity_link_meta_regression_result_full.csv' , row.names = TRUE)\n",
    "df"
   ]
  },
  {
   "cell_type": "code",
   "execution_count": null,
   "id": "0d067600",
   "metadata": {
    "ExecuteTime": {
     "end_time": "2023-03-20T14:31:19.509537Z",
     "start_time": "2023-03-20T14:31:19.374Z"
    },
    "vscode": {
     "languageId": "r"
    }
   },
   "outputs": [],
   "source": [
    "for (j in 2:6){\n",
    "    df <- data.frame(cbind(models[[1]][[j]]$b, models[[1]][[j]]$ci.lb, models[[1]][[j]]$ci.ub,models[[1]][[j]]$pval))\n",
    "    for (i in 2:4){\n",
    "        df <- rbind(df, data.frame(cbind(models[[i]][[j]]$b, models[[i]][[j]]$ci.lb, models[[i]][[j]]$ci.ub,models[[i]][[j]]$pval)))\n",
    "    }\n",
    "    file_name <- \"gamm_identity_link_meta_regression_result_crude_{j}.csv\"\n",
    "    file_name <- glue(file_name)\n",
    "    print(file_name)\n",
    "    write.csv(df, file_name, row.names = TRUE)\n",
    "}\n",
    "df"
   ]
  },
  {
   "cell_type": "code",
   "execution_count": null,
   "id": "cb6c0a9b",
   "metadata": {
    "ExecuteTime": {
     "end_time": "2023-03-29T09:33:04.501243Z",
     "start_time": "2023-03-29T09:33:04.477Z"
    },
    "vscode": {
     "languageId": "r"
    }
   },
   "outputs": [],
   "source": [
    "predict(models[[1]][[3]], newmods = c(1), intercept = TRUE)"
   ]
  },
  {
   "cell_type": "code",
   "execution_count": null,
   "id": "8f751646",
   "metadata": {
    "ExecuteTime": {
     "end_time": "2023-03-15T15:02:54.515897Z",
     "start_time": "2023-03-15T15:02:54.497Z"
    },
    "vscode": {
     "languageId": "r"
    }
   },
   "outputs": [],
   "source": [
    "models[[1]][[2]]$ci.lb"
   ]
  },
  {
   "cell_type": "code",
   "execution_count": null,
   "id": "56abe8b1",
   "metadata": {
    "ExecuteTime": {
     "end_time": "2023-03-15T15:03:11.210671Z",
     "start_time": "2023-03-15T15:03:11.186Z"
    },
    "vscode": {
     "languageId": "r"
    }
   },
   "outputs": [],
   "source": [
    "data.frame(cbind(models[[1]][[2]]$b, models[[1]][[2]]$ci.lb, models[[1]][[2]]$ci.ub))"
   ]
  }
 ],
 "metadata": {
  "kernelspec": {
   "display_name": "R",
   "language": "R",
   "name": "ir"
  },
  "language_info": {
   "codemirror_mode": "r",
   "file_extension": ".r",
   "mimetype": "text/x-r-source",
   "name": "R",
   "pygments_lexer": "r",
   "version": "4.1.2"
  },
  "toc": {
   "base_numbering": 1,
   "nav_menu": {},
   "number_sections": true,
   "sideBar": true,
   "skip_h1_title": false,
   "title_cell": "Table of Contents",
   "title_sidebar": "Contents",
   "toc_cell": false,
   "toc_position": {},
   "toc_section_display": true,
   "toc_window_display": false
  }
 },
 "nbformat": 4,
 "nbformat_minor": 5
}
