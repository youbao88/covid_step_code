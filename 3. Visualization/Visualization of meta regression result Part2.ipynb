{
 "cells": [
  {
   "cell_type": "code",
   "execution_count": null,
   "id": "99937529",
   "metadata": {
    "ExecuteTime": {
     "end_time": "2023-08-08T08:00:27.845935Z",
     "start_time": "2023-08-08T08:00:26.433135Z"
    }
   },
   "outputs": [],
   "source": [
    "import pandas as pd\n",
    "import numpy as np\n",
    "import matplotlib.pyplot as plt\n",
    "import os\n",
    "from math import exp\n",
    "import matplotlib.gridspec as gridspec\n",
    "import matplotlib.ticker as mtick\n",
    "from matplotlib.lines import Line2D"
   ]
  },
  {
   "cell_type": "code",
   "execution_count": null,
   "id": "072c24bb",
   "metadata": {
    "ExecuteTime": {
     "end_time": "2023-03-21T08:23:24.200244Z",
     "start_time": "2023-03-21T08:23:24.066686Z"
    }
   },
   "outputs": [],
   "source": [
    "df_wave1 = pd.read_csv('meta_regression_result_wave1.csv')\n",
    "df_wave2 = pd.read_csv('meta_regression_result_wave2.csv')\n",
    "df_wave3 = pd.read_csv('meta_regression_result_wave3.csv')\n",
    "df_wave4 = pd.read_csv('meta_regression_result_wave4.csv')\n",
    "df = pd.DataFrame()\n",
    "for n, _df in enumerate([df_wave1, df_wave2, df_wave3, df_wave4]):\n",
    "    _df['cov'] = ['intrcpt', 'age_group30-69', 'age_group70-90', 'SexMale', 'IncomeQ1', 'IncomeQ2', 'IncomeQ3', 'IncomeQ4',\n",
    "                       'EducationLow', 'Office> 50%', 'OfficeOther']\n",
    "    _df['effect'] = _df['pred'] -1\n",
    "    _df['effect_ci_lb'] = _df['ci.lb'] -1\n",
    "    _df['effect_ci_ub'] = _df['ci.ub'] -1\n",
    "    _df = _df.set_index('cov')\n",
    "    _df.columns = [i+'_wave'+str(n+1) for i in _df.columns]\n",
    "    if len(df) == 0:\n",
    "        df = _df\n",
    "    else:\n",
    "        df = pd.concat([df, _df], axis = 1)\n",
    "df"
   ]
  },
  {
   "cell_type": "code",
   "execution_count": null,
   "id": "6915c855",
   "metadata": {
    "ExecuteTime": {
     "end_time": "2023-03-21T08:23:28.718592Z",
     "start_time": "2023-03-21T08:23:28.692981Z"
    }
   },
   "outputs": [],
   "source": [
    "df = df.rename(index = {'intrcpt': 'Ref.', 'age_group30-69': 'Age: 30-69', 'age_group70-90': 'Age: 70-90',\n",
    "                        'SexMale': 'Sex: male', 'IncomeQ1': 'Income: Q1', 'IncomeQ2': 'Income: Q2', 'IncomeQ3': 'Income: Q3',\n",
    "                        'IncomeQ4': 'Income: Q4', 'EducationLow': 'Education: low', 'Office> 50%': 'Remote work: no', 'OfficeOther': 'Remote work: other'})\n",
    "df"
   ]
  },
  {
   "cell_type": "code",
   "execution_count": null,
   "id": "1a360b82",
   "metadata": {
    "ExecuteTime": {
     "end_time": "2023-03-21T08:23:33.212108Z",
     "start_time": "2023-03-21T08:23:33.059109Z"
    }
   },
   "outputs": [],
   "source": [
    "df_wave1_mean_difference = pd.read_csv('meta_regression_result_wave1_mean_difference.csv')\n",
    "df_wave2_mean_difference = pd.read_csv('meta_regression_result_wave2_mean_difference.csv')\n",
    "df_wave3_mean_difference = pd.read_csv('meta_regression_result_wave3_mean_difference.csv')\n",
    "df_wave4_mean_difference = pd.read_csv('meta_regression_result_wave4_mean_difference.csv')\n",
    "df_mean_difference = pd.DataFrame()\n",
    "for n, _df in enumerate([df_wave1_mean_difference, df_wave2_mean_difference, df_wave3_mean_difference, df_wave4_mean_difference]):\n",
    "    _df['cov'] = ['intrcpt', 'age_group30-69', 'age_group70-90', 'SexMale', 'IncomeQ1', 'IncomeQ2', 'IncomeQ3', 'IncomeQ4',\n",
    "                       'EducationLow', 'Office> 50%', 'OfficeOther']\n",
    "    _df = _df.set_index('cov')\n",
    "    _df.columns = [i+'_wave'+str(n+1) for i in _df.columns]\n",
    "    if len(df) == 0:\n",
    "        df_mean_difference = _df\n",
    "    else:\n",
    "        df_mean_difference = pd.concat([df_mean_difference, _df], axis = 1)\n",
    "df_mean_difference"
   ]
  },
  {
   "cell_type": "code",
   "execution_count": null,
   "id": "cb789c36",
   "metadata": {
    "ExecuteTime": {
     "end_time": "2023-03-21T08:23:35.227580Z",
     "start_time": "2023-03-21T08:23:35.216841Z"
    }
   },
   "outputs": [],
   "source": [
    "def change_colors(row, wave):\n",
    "    if row.name == 'intrcpt':\n",
    "        return 'black'\n",
    "    else:\n",
    "        if (1< row['ci.ub_%s'%wave]) and  ((1> row['ci.lb_%s'%wave])):\n",
    "            return 'gray'\n",
    "        else:\n",
    "            return 'purple'"
   ]
  },
  {
   "cell_type": "code",
   "execution_count": null,
   "id": "6dff0c10",
   "metadata": {
    "ExecuteTime": {
     "end_time": "2023-03-21T08:23:36.695976Z",
     "start_time": "2023-03-21T08:23:36.680988Z"
    },
    "scrolled": false
   },
   "outputs": [],
   "source": [
    "wave = 'wave1'\n",
    "df_mean_difference.apply(change_colors, wave = wave, axis = 1)"
   ]
  },
  {
   "cell_type": "code",
   "execution_count": null,
   "id": "7ff5d060",
   "metadata": {
    "ExecuteTime": {
     "end_time": "2023-03-21T08:23:40.227783Z",
     "start_time": "2023-03-21T08:23:38.377169Z"
    },
    "scrolled": false
   },
   "outputs": [],
   "source": [
    "fig, axes = plt.subplots(2,2,figsize = (12,10), dpi = 350)\n",
    "axes = axes.flat\n",
    "for i, wave in enumerate(['wave1', 'wave2', 'wave3', 'wave4']):\n",
    "    ax = axes[i]\n",
    "    colors = df_mean_difference.apply(change_colors, wave = wave, axis = 1)\n",
    "    ax.barh(range(11), df['effect_%s'%wave], align = 'center', color = colors,alpha = 0.5)\n",
    "    ax.set_yticks(range(11))\n",
    "    ax.set_yticklabels(df.index, fontsize = 15)\n",
    "    for ticklabel, tickcolor in zip(ax.get_yticklabels(), colors):\n",
    "        ticklabel.set_color(tickcolor)\n",
    "    ax.invert_yaxis()\n",
    "    ax.spines[['right', 'top']].set_visible(False)\n",
    "    ax.axvline(0, color = 'gray', linewidth = 1.5, linestyle = '--')\n",
    "    ax.set_title(wave, fontsize = 18)\n",
    "    ax.set_xlim([-0.25, 0.8])\n",
    "    ax.set_xlabel('Percentage change (in daily steps)', fontsize = 13)\n",
    "    \n",
    "    ax2 = ax.twiny()\n",
    "    ax2.set_xlim([0.2, 1.5])\n",
    "    ax2.set_xlabel('RRR', fontsize = 13)\n",
    "    error_minus = df_mean_difference['pred_%s'%wave] - df_mean_difference['ci.lb_%s'%wave]\n",
    "    error_plus = df_mean_difference['ci.ub_%s'%wave] - df_mean_difference['pred_%s'%wave]\n",
    "    j = 0\n",
    "    for index, row in df_mean_difference.iterrows():\n",
    "        ax2.errorbar(x = row['pred_%s'%wave],y = j, xerr = np.array(error_minus[j], error_plus[j]).T, marker = 'o',ls = 'none', capsize = 5, color = colors[j], markeredgewidth=1.5, linewidth = 1.5, alpha = 0.5)\n",
    "        j+=1\n",
    "    ax2.axvline(1, color = 'gray', linewidth = 1.5, alpha = 0.5)\n",
    "fig.tight_layout()\n",
    "#plt.savefig('Meta_regression_visualization.pdf')"
   ]
  },
  {
   "cell_type": "code",
   "execution_count": null,
   "id": "0b21ebbd",
   "metadata": {},
   "outputs": [],
   "source": [
    "fig, axes = plt.subplots(1,2,figsize = (12,5), dpi = 300)\n",
    "for i, wave in enumerate(['wave1', 'wave3']):\n",
    "    colors = df_mean_difference.apply(change_colors, wave = wave, axis = 1)\n",
    "    axes[i].barh(df['effect_%s'%wave].index, width = df['effect_%s'%wave], color = colors, alpha = 0.5)\n",
    "    axes[i].set_xlim([-0.25, 0.25])\n",
    "    axes[i].spines[['right', 'top']].set_visible(False)\n",
    "    axes[i].axvline(0, color = 'gray', linewidth = 1.5, linestyle = '--')\n",
    "    axes[i].invert_yaxis()\n",
    "    axes[i].set_title(wave, fontsize = 18)\n",
    "    axes[i].set_yticklabels(df.index, fontsize = 15)\n",
    "    axes[i].set_xlabel('Percentage change (in daily steps)', fontsize = 13)\n",
    "    vals = axes[i].get_xticks()\n",
    "    axes[i].set_xticklabels(['{:,.0%}'.format(x) for x in vals])\n",
    "    for ticklabel, tickcolor in zip(axes[i].get_yticklabels(), colors):\n",
    "            ticklabel.set_color(tickcolor)\n",
    "plt.tight_layout()\n",
    "#plt.savefig('monday_meeting.svg')"
   ]
  },
  {
   "cell_type": "code",
   "execution_count": null,
   "id": "0187aa89",
   "metadata": {
    "scrolled": false
   },
   "outputs": [],
   "source": [
    "fig, axes = plt.subplots(2,2,figsize = (12,10), dpi = 350)\n",
    "axes = axes.flat\n",
    "for i, wave in enumerate(['wave1', 'wave2', 'wave3', 'wave4']):\n",
    "    ax = axes[i]\n",
    "    error_minus = df['pred_%s'%wave] - df['ci.lb_%s'%wave]\n",
    "    error_plus = df['ci.ub_%s'%wave] - df['pred_%s'%wave]\n",
    "    ax.errorbar(x = df['pred_%s'%wave],y = range(11), xerr = (error_minus, error_plus), marker = 'o',ls = 'none', capsize = 5, c = 'black', markeredgewidth=1.5, linewidth = 1.5)\n",
    "    ax.set_xlim(0.6, 1.4)\n",
    "    ax.set_yticks(range(11))\n",
    "    ax.set_yticklabels(df.index, fontsize = 13)\n",
    "    ax.invert_yaxis()\n",
    "    ax.spines[['right', 'top']].set_visible(False)\n",
    "    ax.axvline(1, color = 'gray', linestyle = (0,(1,10)), linewidth = 1.5)\n",
    "    ax.set_title(wave, fontsize = 15)\n",
    "fig.tight_layout()"
   ]
  },
  {
   "cell_type": "code",
   "execution_count": null,
   "id": "00c9f813",
   "metadata": {},
   "outputs": [],
   "source": [
    "fig = plt.figure(figsize = (13,10), dpi = 350)\n",
    "outer = gridspec.GridSpec(2, 2)\n",
    "for i, wave in enumerate(['wave1', 'wave2', 'wave3', 'wave4']):\n",
    "    inner = gridspec.GridSpecFromSubplotSpec(1, 2,\n",
    "                    subplot_spec=outer[i], wspace = 0.13)\n",
    "    ax1 = plt.Subplot(fig, inner[0])\n",
    "    colors = df_mean_difference.apply(change_colors, wave = wave, axis = 1)\n",
    "    bars = ax1.barh(range(11), df['effect_%s'%wave], align = 'center', color = colors,alpha = 0.5)\n",
    "    ax1.set_yticks(range(11))\n",
    "    ax1.set_yticklabels(df.index, fontsize = 15)\n",
    "    for ticklabel, tickcolor in zip(ax1.get_yticklabels(), colors):\n",
    "        ticklabel.set_color(tickcolor)\n",
    "    ax1.invert_yaxis()\n",
    "    ax1.spines[['right']].set_visible(False)\n",
    "    ax1.axvline(0, color = 'gray', linewidth = 1.5, linestyle = '--')\n",
    "    ax1.set_xlim([-0.25, 0.2])\n",
    "    ax1.set_xlabel('Percentage change\\n(in daily steps)', fontsize = 10)\n",
    "    fig.add_subplot(ax1)\n",
    "    \n",
    "    ax2 = plt.Subplot(fig, inner[1])\n",
    "    ax2.set_xlim([0.8, 1.5])\n",
    "    ax2.set_xlabel('RRR', fontsize = 10)\n",
    "    error_minus = df_mean_difference['pred_%s'%wave] - df_mean_difference['ci.lb_%s'%wave]\n",
    "    error_plus = df_mean_difference['ci.ub_%s'%wave] - df_mean_difference['pred_%s'%wave]\n",
    "    j = 0\n",
    "    for index, row in df_mean_difference.iterrows():\n",
    "        ax2.errorbar(x = row['pred_%s'%wave],y = j, xerr = np.array(error_minus[j], error_plus[j]).T, marker = 'o',ls = 'none', capsize = 5, color = colors[j], markeredgewidth=1.5, linewidth = 1.5, alpha = 0.5)\n",
    "        j+=1\n",
    "    ax2.axvline(1, color = 'gray', linewidth = 1.5, alpha = 0.5)\n",
    "    ax2.get_yaxis().set_visible(False)\n",
    "    ax2.spines[['left']].set_visible(False)\n",
    "    ax2.invert_yaxis()\n",
    "    fig.add_subplot(ax2)\n",
    "plt.figtext(0.33,0.998,\"Wave1\", va=\"center\", ha=\"center\", size=15)\n",
    "plt.figtext(0.829,0.998,\"Wave2\", va=\"center\", ha=\"center\", size=15)\n",
    "plt.figtext(0.33,0.505,\"Wave3\", va=\"center\", ha=\"center\", size=15)\n",
    "plt.figtext(0.829,0.505,\"Wave4\", va=\"center\", ha=\"center\", size=15)\n",
    "fig.tight_layout()\n",
    "plt.savefig('Meta_regression_visualization.pdf', bbox_inches=\"tight\")"
   ]
  },
  {
   "cell_type": "markdown",
   "id": "46bd2fe3",
   "metadata": {},
   "source": [
    "# Visualization with GAMM (auto correlation and identity link)"
   ]
  },
  {
   "cell_type": "code",
   "execution_count": null,
   "id": "e88c2d31",
   "metadata": {
    "ExecuteTime": {
     "end_time": "2023-08-08T13:14:19.755572Z",
     "start_time": "2023-08-08T13:14:19.721941Z"
    }
   },
   "outputs": [],
   "source": [
    "df_full = pd.read_csv(os.path.join('gamm meta regression results', 'gamm_identity_link_meta_regression_result_full.csv'))"
   ]
  },
  {
   "cell_type": "code",
   "execution_count": null,
   "id": "3a4a8c24",
   "metadata": {
    "ExecuteTime": {
     "end_time": "2023-08-08T13:14:21.507712Z",
     "start_time": "2023-08-08T13:14:21.485711Z"
    }
   },
   "outputs": [],
   "source": [
    "df_full = df_full.rename(columns = {'Unnamed: 0': 'name'})\n",
    "df_full['wave'] = ['wave1']*11+['wave2']*11+['wave3']*11+['wave4']*11\n",
    "df_full['name'] = df_full.apply(lambda row: row['name'] if row['wave'] == 'wave1' else row['name'][:-2], axis = 1)\n",
    "df_full"
   ]
  },
  {
   "cell_type": "code",
   "execution_count": null,
   "id": "2268c219",
   "metadata": {
    "ExecuteTime": {
     "end_time": "2023-08-08T13:14:24.205439Z",
     "start_time": "2023-08-08T13:14:24.197447Z"
    }
   },
   "outputs": [],
   "source": [
    "def assign_colors_full(row):\n",
    "    if row['estimate'] != 0:\n",
    "        if (0< row['upper']) and  ((0> row['lower'])):\n",
    "            return 'gray'\n",
    "        else:\n",
    "            return 'purple'\n",
    "    else:\n",
    "        return 'gray'"
   ]
  },
  {
   "cell_type": "code",
   "execution_count": null,
   "id": "278cb958",
   "metadata": {
    "ExecuteTime": {
     "end_time": "2023-08-08T13:14:25.747951Z",
     "start_time": "2023-08-08T13:14:25.721101Z"
    }
   },
   "outputs": [],
   "source": [
    "df_full['name'] = df_full['name'].replace({'intrcpt': 'Ref.', 'age_group30.69': 'Age: 30-69', 'age_group70.90': 'Age: 70-90',\n",
    "                        'SexMale': 'Sex: male', 'IncomeQ1': 'Income: Q1', 'IncomeQ2': 'Income: Q2', 'IncomeQ3': 'Income: Q3',\n",
    "                        'IncomeQ4': 'Income: Q4', 'EducationLow': 'Education: low', 'Office..50.': 'Remote work: no', 'OfficeOther': 'Remote work:\\nunemployed'})\n",
    "df_full"
   ]
  },
  {
   "cell_type": "code",
   "execution_count": null,
   "id": "ed695a4c",
   "metadata": {
    "ExecuteTime": {
     "end_time": "2023-08-08T13:16:32.614915Z",
     "start_time": "2023-08-08T13:16:32.542480Z"
    }
   },
   "outputs": [],
   "source": [
    "df_full_ref = df_crude.drop(['lower', 'upper', 'estimate', 'pval'], axis = 1).rename(columns = {'index': 'name'})\n",
    "def fill_data(row, column_name):\n",
    "    query = df_full[(df_full['name'] == row['name']) & (df_full['wave'] == row['wave'])]\n",
    "    if len(query) > 0:\n",
    "        return query[column_name].values[0]\n",
    "    else:\n",
    "        return 0\n",
    "df_full_ref['estimate'] = df_full_ref.apply(fill_data, column_name = 'estimate', axis = 1)\n",
    "df_full_ref['lower'] = df_full_ref.apply(fill_data, column_name = 'lower', axis = 1)\n",
    "df_full_ref['upper'] = df_full_ref.apply(fill_data, column_name = 'upper', axis = 1)\n",
    "df_full_ref['name'] = df_full_ref['name'].replace({'Remote work: unemployed': 'Remote work:\\nunemployed'})\n",
    "df_full_ref"
   ]
  },
  {
   "cell_type": "code",
   "execution_count": null,
   "id": "7a936e54",
   "metadata": {
    "ExecuteTime": {
     "end_time": "2023-08-08T14:08:32.769639Z",
     "start_time": "2023-08-08T14:08:30.505782Z"
    },
    "scrolled": false
   },
   "outputs": [],
   "source": [
    "fig, axes  = plt.subplots(2,2, figsize = (13,11), dpi = 350)\n",
    "axes = axes.flat\n",
    "for i, wave in enumerate(['wave1', 'wave2', 'wave3', 'wave4']):\n",
    "    _df = df_full_ref[df_full_ref['wave'] == wave].reset_index(drop = True)\n",
    "    _df.iloc[3], _df.iloc[4] = _df.iloc[4].copy(), _df.iloc[3].copy()\n",
    "    print(_df)\n",
    "    colors = list(_df.apply(assign_colors_full, axis = 1))\n",
    "    error_plus = list(_df['upper'] - _df['estimate'])\n",
    "    error_minus = list(_df['estimate'] - _df['lower'])\n",
    "    j = 0\n",
    "    for index, row in _df.iterrows():\n",
    "        axes[i].errorbar(x = row['estimate'],y = j, xerr = np.array([error_minus[j], error_plus[j]]).reshape(2,1), marker = 'o',ls = 'none', capsize = 5, color = 'gray', markeredgewidth=1.5, linewidth = 1.5, alpha = 0.8)\n",
    "        j+=1 \n",
    "    axes[i].set_yticks(range(15))\n",
    "    axes[i].set_yticklabels(_df['name'], fontsize = 15)\n",
    "    for ticklabel, tickcolor in zip(axes[i].get_yticklabels(), colors):\n",
    "        ticklabel.set_color('gray')\n",
    "    axes[i].set_xlim(-1900, 1900)\n",
    "    axes[i].axvline(0, color = 'gray', linewidth = 1.5, linestyle = '--')\n",
    "    axes[i].invert_yaxis()\n",
    "    axes[i].text(1150, 0, wave, fontsize = 15)\n",
    "    axes[i].set_xlabel('Difference compared with reference level (steps)')\n",
    "#custom_lines = [Line2D([0], [0], marker='o', color='white', label='reference',\n",
    "#                          markerfacecolor='gray', markersize=8, alpha = 0.7),\n",
    "#    Line2D([0], [0], color='purple', lw=2, marker='o', label ='significant', alpha = 0.5),\n",
    "#                Line2D([0], [0], color='gray', lw=2, marker = 'o', label = 'insignificant', alpha = 0.5)]\n",
    "#fig.legend(handles = custom_lines, ncol = 3, bbox_to_anchor = (0.69,-0.001))\n",
    "fig.tight_layout()\n",
    "plt.savefig('Meta_regression_adjusted_visualization.pdf', bbox_inches=\"tight\")\n",
    "plt.savefig('Meta_regression_adjusted_visualization.svg', bbox_inches=\"tight\")"
   ]
  },
  {
   "cell_type": "markdown",
   "id": "03406b43",
   "metadata": {},
   "source": [
    "## Crude model"
   ]
  },
  {
   "cell_type": "code",
   "execution_count": null,
   "id": "b210e299",
   "metadata": {
    "ExecuteTime": {
     "end_time": "2023-08-08T13:02:10.331100Z",
     "start_time": "2023-08-08T13:02:10.224908Z"
    }
   },
   "outputs": [],
   "source": [
    "df_crude_2 = pd.read_csv(os.path.join('gamm meta regression results', 'gamm_identity_link_meta_regression_result_crude_2.csv'))\n",
    "\n",
    "df_crude_3 = pd.read_csv(os.path.join('gamm meta regression results', 'gamm_identity_link_meta_regression_result_crude_3.csv'))\n",
    "\n",
    "df_crude_4 = pd.read_csv(os.path.join('gamm meta regression results', 'gamm_identity_link_meta_regression_result_crude_4.csv'))\n",
    "\n",
    "df_crude_5 = pd.read_csv(os.path.join('gamm meta regression results', 'gamm_identity_link_meta_regression_result_crude_5.csv'))\n",
    "\n",
    "df_crude_6 = pd.read_csv(os.path.join('gamm meta regression results', 'gamm_identity_link_meta_regression_result_crude_6.csv'))\n",
    "def remove_suffix(row):\n",
    "    if row['wave'] != 'wave1':\n",
    "        return row['index'][:-1]\n",
    "    else:\n",
    "        return row['index']\n",
    "for _df in [df_crude_2,df_crude_3,df_crude_4,df_crude_5,df_crude_6]:\n",
    "    n_variables_per_wave = int(len(_df)/4)\n",
    "    _df['wave'] = pd.Series(['wave1']*n_variables_per_wave +['wave2']*n_variables_per_wave+\n",
    "                           ['wave3']*n_variables_per_wave+['wave4']*n_variables_per_wave)\n",
    "    _df.columns = ['index', 'estimate', 'lower', 'upper','pval', 'wave']\n",
    "    _df['index'] = _df.apply(remove_suffix, axis = 1)\n",
    "df_crude_2['index'] = df_crude_2['index'].str.replace(r'intrcpt.*','age_group<30', regex = True)\n",
    "df_crude_3['index'] = df_crude_3['index'].str.replace(r'intrcpt.*','sexFemale', regex = True)\n",
    "df_crude_4['index'] = df_crude_4['index'].str.replace(r'intrcpt.*','IncomeQ5', regex = True)\n",
    "df_crude_5['index'] = df_crude_5['index'].str.replace(r'intrcpt.*', 'EducationHigh', regex = True)\n",
    "df_crude_6['index'] = df_crude_6['index'].str.replace(r'intrcpt.*',' Office< 50%', regex = True)\n",
    "df_crude = pd.concat([df_crude_2,df_crude_3,df_crude_4,df_crude_5,df_crude_6])\n",
    "df_crude"
   ]
  },
  {
   "cell_type": "code",
   "execution_count": null,
   "id": "be47f3c7",
   "metadata": {
    "ExecuteTime": {
     "end_time": "2023-08-08T13:02:13.146217Z",
     "start_time": "2023-08-08T13:02:13.122224Z"
    }
   },
   "outputs": [],
   "source": [
    "df_crude['index'] = df_crude['index'].replace({'age_group<30': 'Age: <30','age_group30-69': 'Age: 30-69',\n",
    "                                               'age_group70-90': 'Age: 70-90', 'SexMale': 'Sex: male', 'sexFemale': 'Sex: female',\n",
    "                                               'IncomeQ1': 'Income: Q1', 'IncomeQ2': 'Income: Q2', 'IncomeQ3': 'Income: Q3',\n",
    "                                               'IncomeQ5': 'Income: Q5','IncomeQ4': 'Income: Q4',\n",
    "                                               'EducationLow': 'Education: low','EducationHigh': 'Education: high',\n",
    "                                               'Office> 50%': 'Remote work: no',' Office< 50%': 'Remote work: yes',\n",
    "                                               'OfficeOther': 'Remote work: unemployed'})\n",
    "df_crude"
   ]
  },
  {
   "cell_type": "code",
   "execution_count": null,
   "id": "9a9599ed",
   "metadata": {
    "ExecuteTime": {
     "end_time": "2023-08-08T13:02:16.145766Z",
     "start_time": "2023-08-08T13:02:16.129764Z"
    }
   },
   "outputs": [],
   "source": [
    "intercept_list = ['Age: <30', 'Sex: Female', 'Income: Q5', 'Education: High', 'Remote work: yes']\n",
    "def assign_colors(row):\n",
    "    if row['pval'] <= 0.05:\n",
    "        return 'purple'\n",
    "    else:\n",
    "        return 'gray'"
   ]
  },
  {
   "cell_type": "code",
   "execution_count": null,
   "id": "a959ec0d",
   "metadata": {
    "ExecuteTime": {
     "end_time": "2023-08-08T13:02:17.795182Z",
     "start_time": "2023-08-08T13:02:17.779972Z"
    }
   },
   "outputs": [],
   "source": [
    "df_crude['name_short'] = df_crude['index'].str.extract('.+:\\s{1}(.+)')\n",
    "df_crude"
   ]
  },
  {
   "cell_type": "code",
   "execution_count": null,
   "id": "f406340b",
   "metadata": {
    "ExecuteTime": {
     "end_time": "2023-08-08T14:09:20.572496Z",
     "start_time": "2023-08-08T14:09:18.491636Z"
    },
    "scrolled": false
   },
   "outputs": [],
   "source": [
    "fig, axes  = plt.subplots(2,2, figsize = (13,11), dpi = 350)\n",
    "axes = axes.flat\n",
    "for i, wave in enumerate(['wave1', 'wave2', 'wave3', 'wave4']):\n",
    "    _df = df_crude[df_crude['wave'] == wave].reset_index(drop = True)\n",
    "    _df.iloc[3], _df.iloc[4] =  _df.iloc[4].copy(), _df.iloc[3].copy()\n",
    "#    _df.loc[_df['index'] == 'intrcpt', ['estimate', 'lower', 'upper']] = 0\n",
    "    colors = list(_df.apply(assign_colors, axis = 1))\n",
    "    error_plus = list(_df['upper'] - _df['estimate'])\n",
    "    error_minus = list(_df['estimate'] - _df['lower'])\n",
    "    j = 0\n",
    "    for index, row in _df.iterrows():\n",
    "        axes[i].errorbar(x = row['estimate'],y = j, xerr = np.array([error_minus[j], error_plus[j]]).reshape(2,1), marker = 'o',ls = 'none', capsize = 5, color = 'gray', markeredgewidth=1.5, linewidth = 1.5, alpha = 0.9)\n",
    "        j+=1 \n",
    "    axes[i].set_yticks(range(15))\n",
    "    axes[i].set_yticklabels(_df['name_short'], fontsize = 15)\n",
    "    for ticklabel, tickcolor in zip(axes[i].get_yticklabels(), colors):\n",
    "        ticklabel.set_color('gray')\n",
    "    axes[i].set_xlim(-1900, 1900)\n",
    "    axes[i].invert_yaxis()\n",
    "#     for k in [2.5, 4.5, 9.5, 11.5]:\n",
    "#         axes[i].axhline(k, color = 'gray', linewidth = 1.5, alpha = 0.5, linestyle = '-')\n",
    "    axes[i].axvline(0, color = 'gray', linewidth = 1, linestyle = '--')\n",
    "    axes[i].text(1150,0,wave,fontsize = 15)\n",
    "    axes[i].set_xlabel('Difference compared with pre-pandemic levels (steps)')\n",
    "    \n",
    "    axes[i].set_yticks([0.01,3.01, 5.01, 10.01, 12.2], minor=True)\n",
    "    axes[i].set_yticklabels(['Age', 'Sex', 'Income', 'Education', 'Remote\\nwork'], minor=True, fontsize = 15, c = 'black')\n",
    "    axes[i].tick_params(axis='y', which='minor', length=0, pad=50)\n",
    "    for j in [2.5, 4.5, 9.5, 11.5]:\n",
    "        axes[i].axhline(j, xmin = -0.3, c = 'black', linewidth = 0.6, clip_on = False)\n",
    "#custom_lines = [Line2D([0], [0], color='purple', lw=2, marker='o', label ='significant', alpha = 0.5),\n",
    "#                Line2D([0], [0], color='gray', lw=2, marker = 'o', label = 'insignificant', alpha = 0.5)]\n",
    "#fig.legend(handles = custom_lines, ncol = 2, bbox_to_anchor = (0.63,-0.001))\n",
    "fig.tight_layout()\n",
    "plt.savefig('Meta_regression_crude_visualization.pdf', bbox_inches=\"tight\")\n",
    "plt.savefig('Meta_regression_crude_visualization.svg', bbox_inches=\"tight\")"
   ]
  }
 ],
 "metadata": {
  "kernelspec": {
   "display_name": "Python 3 (ipykernel)",
   "language": "python",
   "name": "python3"
  },
  "language_info": {
   "codemirror_mode": {
    "name": "ipython",
    "version": 3
   },
   "file_extension": ".py",
   "mimetype": "text/x-python",
   "name": "python",
   "nbconvert_exporter": "python",
   "pygments_lexer": "ipython3",
   "version": "3.9.7"
  },
  "toc": {
   "base_numbering": 1,
   "nav_menu": {},
   "number_sections": true,
   "sideBar": true,
   "skip_h1_title": false,
   "title_cell": "Table of Contents",
   "title_sidebar": "Contents",
   "toc_cell": false,
   "toc_position": {},
   "toc_section_display": true,
   "toc_window_display": false
  }
 },
 "nbformat": 4,
 "nbformat_minor": 5
}
